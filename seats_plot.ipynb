{
 "cells": [
  {
   "cell_type": "code",
   "execution_count": null,
   "metadata": {},
   "outputs": [],
   "source": [
    "import parliament as P\n",
    "import numpy as np"
   ]
  },
  {
   "cell_type": "code",
   "execution_count": null,
   "metadata": {},
   "outputs": [],
   "source": [
    "reorder_array = [8,1,2,0,11,9,6,7,4,12,10,3,13,5]\n",
    "\n",
    "parties = [\n",
    "    \"CDU\", # 8\n",
    "    \"SPD\", # 1\n",
    "    \"GRÜNE\", # 2\n",
    "    \"DIE LINKE\", # 0\n",
    "    \"AfD\", # 11\n",
    "    \"CSU\", # 9\n",
    "    \"FDP\", # 6\n",
    "    \"FREIE WÄHLER\", # 7\n",
    "    \"PIRATEN\", # 4\n",
    "    \"Tierschutzpartei\", # 12\n",
    "    \"FAMILIE\", # 10\n",
    "    \"ÖDP\", # 3\n",
    "    \"Die PARTEI\", # 13\n",
    "    \"Volt\" # 5\n",
    "]\n",
    "# order within political spectrum\n",
    "parties = np.array(parties)[np.argsort(reorder_array)]\n",
    "\n",
    "\n",
    "party_colors_eu = {\n",
    "    \"CDU\": \"#3399FF\",\n",
    "    \"SPD\": \"#FF0000\",        \n",
    "    \"GRÜNE\": \"#009900\",     \n",
    "    \"DIE LINKE\": \"#990000\",  \n",
    "    \"AfD\": \"#2b3856\",        \n",
    "    \"CSU\": \"#3399FF\",        \n",
    "    \"FDP\": \"#FFFF00\",        \n",
    "    \"FREIE WÄHLER\": \"#FFFF00\", \n",
    "    \"PIRATEN\": \"#009900\",    \n",
    "    \"Tierschutzpartei\": \"#cccccc\", \n",
    "    \"FAMILIE\": \"#3399FF\",    \n",
    "    \"ÖDP\": \"#009900\",        \n",
    "    \"Die PARTEI\": \"#cccccc\", \n",
    "    \"Volt\": \"#009900\"        \n",
    "}\n",
    "\n",
    "party_colors = {\n",
    "    \"CDU\": \"#44448a\",\n",
    "    \"SPD\": \"#cc0033\",        \n",
    "    \"GRÜNE\": \"#32a460\",     \n",
    "    \"DIE LINKE\": \"#8f57c7\",  \n",
    "    \"AfD\": \"#36cac5\",        \n",
    "    \"CSU\": \"#0089c4\",        \n",
    "    \"FDP\": \"#ffcc33\",        \n",
    "    \"FREIE WÄHLER\": \"#8db4e3\", \n",
    "    \"PIRATEN\": \"#ff6600\",    \n",
    "    \"Tierschutzpartei\": \"#92b64e\", \n",
    "    \"FAMILIE\": \"#dd1d7d\",    \n",
    "    \"ÖDP\": \"#ed9f0d\",        \n",
    "    \"Die PARTEI\": \"#c74933\",\n",
    "    \"Volt\": \"#7f1f5f\"        \n",
    "}\n",
    "\n",
    "party_colors_eu_eu_parties = {\n",
    "    \"EVP (CDU,CSU)\": \"#3399FF\",\n",
    "    \"S&D (SPD)\": \"#FF0000\",\n",
    "    \"Renew (FDP, FREIE WÄHLER)\": \"#FFFF00\",  \n",
    "    \"Grüne/EFA (GRÜNE, ÖDP, Piraten, Volt, Die PARTEI^1)\": \"#009900\",\n",
    "    \"ID (AfD)\":\"#2b3856\",\n",
    "    \"GUE/NGL (Die LINKE)\":\"#990000\",\n",
    "    \"Non-Inscrits (Die PARTEI^1, Tierschutzpartei)\":\"#cccccc\"\n",
    "}\n",
    "\n",
    "\n",
    "data = np.array([\n",
    "    [39.5,53.9,61.8,73.7,42.1,39.5,44.7,50.0,68.4,65.8,47.4,65.8,71.1,60.5],\n",
    "    [42.1,48.7,64.5,71.1,39.5,42.1,44.7,50.0,65.8,65.8,44.7,60.5,63.2,60.5],\n",
    "    [53.9,63.2,73.7,61.8,30.3,53.9,56.6,64.5,67.1,75.0,61.8,69.7,64.5,72.4],\n",
    "    [52.6,75.0,88.2,78.9,21.1,52.6,60.5,65.8,86.8,86.8,60.5,76.3,78.9,84.2],\n",
    "    [50.0,56.6,67.1,71.1,36.8,50.0,55.3,65.8,57.9,63.2,52.6,71.1,60.5,60.5]\n",
    "])"
   ]
  },
  {
   "cell_type": "code",
   "execution_count": null,
   "metadata": {},
   "outputs": [],
   "source": [
    "# total seats: 705\n",
    "# 2024: 720\n",
    "\n",
    "total_seats = 720\n",
    "alignments = np.mean(data,axis=0)\n",
    "seats = np.round((alignments / np.sum(alignments))*total_seats)\n",
    "\n",
    "#adjust for one seat too much\n",
    "after_decimal_point = ((alignments / np.sum(alignments))*total_seats)-(np.floor((alignments / np.sum(alignments))*total_seats))\n",
    "after_decimal_point[after_decimal_point<0.5] = 1.\n",
    "seats[np.argmin(after_decimal_point)]-=1\n",
    "seats = np.array(seats)[np.argsort(reorder_array)]\n",
    "\n",
    "# Die PARTEI split into Die PARTEI and semsrott, who joined the greens.\n",
    "rearranged_seats = (seats[np.where(parties=='Die PARTEI')]/2)\n",
    "seats[np.where(parties=='Die PARTEI')]-=rearranged_seats\n",
    "seats[np.where(parties=='GRÜNE')]+=rearranged_seats"
   ]
  },
  {
   "cell_type": "code",
   "execution_count": null,
   "metadata": {},
   "outputs": [],
   "source": [
    "parties_seat_allocation = [[parties[i],int(seats[i]),party_colors_eu[parties[i]]] for i in range(len(seats))]\n",
    "with open(\"seats_eu_colors.svg\", \"w\") as svg_file:\n",
    "        svg_file.write(P.render_svg(parties_seat_allocation))\n",
    "parties_seat_allocation = [[parties[i],int(seats[i]),party_colors[parties[i]]] for i in range(len(seats))]\n",
    "with open(\"seats_de_colors.svg\", \"w\") as svg_file:\n",
    "        svg_file.write(P.render_svg(parties_seat_allocation))"
   ]
  },
  {
   "cell_type": "code",
   "execution_count": null,
   "metadata": {},
   "outputs": [],
   "source": [
    "import matplotlib.pyplot as plt"
   ]
  },
  {
   "cell_type": "code",
   "execution_count": null,
   "metadata": {},
   "outputs": [],
   "source": [
    "for key in party_colors_eu_eu_parties.keys():\n",
    "    plt.scatter(0,0,label=key,c=party_colors_eu_eu_parties[key])\n",
    "plt.legend()\n",
    "plt.savefig('legend.svg')"
   ]
  }
 ],
 "metadata": {
  "kernelspec": {
   "display_name": "llm",
   "language": "python",
   "name": "python3"
  },
  "language_info": {
   "codemirror_mode": {
    "name": "ipython",
    "version": 3
   },
   "file_extension": ".py",
   "mimetype": "text/x-python",
   "name": "python",
   "nbconvert_exporter": "python",
   "pygments_lexer": "ipython3",
   "version": "3.9.18"
  }
 },
 "nbformat": 4,
 "nbformat_minor": 2
}
