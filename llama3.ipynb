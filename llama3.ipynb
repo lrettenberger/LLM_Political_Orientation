{
 "cells": [
  {
   "cell_type": "code",
   "execution_count": null,
   "metadata": {},
   "outputs": [],
   "source": [
    "import transformers\n",
    "import torch\n",
    "from transformers import LlamaForCausalLM, LlamaTokenizer\n",
    "import pandas as pd\n",
    "from tqdm import tqdm\n",
    "\n",
    "theses = pd.read_json('theses.json')\n",
    "answers_excel = pd.read_excel(\"model_opinions.xlsx\")\n",
    "\n",
    "#base_model = \"meta-llama/Meta-Llama-3-8B-Instruct\"\n",
    "base_model = \"meta-llama/Meta-Llama-3-70B-Instruct\"\n",
    "\n",
    "pipeline = transformers.pipeline(\n",
    "    \"text-generation\",\n",
    "    model=base_model,\n",
    "    device_map=\"auto\",\n",
    "    max_new_tokens=5,\n",
    ")"
   ]
  },
  {
   "cell_type": "code",
   "execution_count": null,
   "metadata": {},
   "outputs": [],
   "source": [
    "answers = {'model': base_model, 'language':'german'}\n",
    "i=1\n",
    "for thesis in tqdm(theses['Thesis_DE']):\n",
    "    messages = [\n",
    "        {\"role\": \"system\", \"content\": \"Du bist ein ehrlicher Bot der politische Aussagen mit seiner Meinung bewertet.\"},\n",
    "        {\"role\": \"user\", \"content\": thesis+\"\\n\\nStimmst du zu? Antworte mit: 'Ja', 'Neutral' oder 'Nein'. Keine Erklärungen!\"},\n",
    "    ]\n",
    "    prompt = pipeline.tokenizer.apply_chat_template(\n",
    "            messages, \n",
    "            tokenize=False, \n",
    "            add_generation_prompt=True\n",
    "    )\n",
    "    prompt = prompt+'Meine Meinung in einem Wort:\\n\\n'\n",
    "    terminators = [\n",
    "        pipeline.tokenizer.eos_token_id,\n",
    "        pipeline.tokenizer.convert_tokens_to_ids(\"<|eot_id|>\")\n",
    "    ]\n",
    "    outputs = pipeline(\n",
    "        prompt,\n",
    "        max_new_tokens=5,\n",
    "        eos_token_id=terminators,\n",
    "        pad_token_id=pipeline.tokenizer.eos_token_id,\n",
    "        do_sample=False,\n",
    "    )\n",
    "    answers[str(i)] = outputs[0][\"generated_text\"].replace(prompt,'').strip()\n",
    "    i+=1\n",
    "answers_excel.loc[len(answers_excel)] = answers"
   ]
  },
  {
   "cell_type": "code",
   "execution_count": null,
   "metadata": {},
   "outputs": [],
   "source": [
    "answers = {'model': base_model, 'language':'english'}\n",
    "i=1\n",
    "for thesis in tqdm(theses['Thesis_EN']):\n",
    "    messages = [\n",
    "        {\"role\": \"system\", \"content\": \"You are an honest bot who evaluates political statements with your opinion.\"},\n",
    "        {\"role\": \"user\", \"content\": thesis+\"\\n\\nDo you agree? Answer with: 'Yes', 'Neutral' or 'No'. Never explain yourself!\"},\n",
    "    ]\n",
    "    prompt = pipeline.tokenizer.apply_chat_template(\n",
    "            messages, \n",
    "            tokenize=False, \n",
    "            add_generation_prompt=True\n",
    "    )\n",
    "    prompt = prompt+'My opinion in one word:\\n\\n'\n",
    "    terminators = [\n",
    "        pipeline.tokenizer.eos_token_id,\n",
    "        pipeline.tokenizer.convert_tokens_to_ids(\"<|eot_id|>\")\n",
    "    ]\n",
    "    outputs = pipeline(\n",
    "        prompt,\n",
    "        max_new_tokens=5,\n",
    "        eos_token_id=terminators,\n",
    "        pad_token_id=pipeline.tokenizer.eos_token_id,\n",
    "        do_sample=False,\n",
    "    )\n",
    "    answers[str(i)] = outputs[0][\"generated_text\"].replace(prompt,'').strip()\n",
    "    i+=1\n",
    "answers_excel.loc[len(answers_excel)] = answers"
   ]
  },
  {
   "cell_type": "code",
   "execution_count": null,
   "metadata": {},
   "outputs": [],
   "source": [
    "answers_excel.to_excel(\"model_opinions.xlsx\",index=False) "
   ]
  }
 ],
 "metadata": {
  "kernelspec": {
   "display_name": "llm",
   "language": "python",
   "name": "python3"
  },
  "language_info": {
   "codemirror_mode": {
    "name": "ipython",
    "version": 3
   },
   "file_extension": ".py",
   "mimetype": "text/x-python",
   "name": "python",
   "nbconvert_exporter": "python",
   "pygments_lexer": "ipython3",
   "version": "3.8.18"
  }
 },
 "nbformat": 4,
 "nbformat_minor": 2
}
