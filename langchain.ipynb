{
 "cells": [
  {
   "cell_type": "code",
   "metadata": {
    "ExecuteTime": {
     "end_time": "2025-02-12T19:43:24.535900Z",
     "start_time": "2025-02-12T19:43:24.500163Z"
    }
   },
   "source": [
    "import pandas as pd\n",
    "from langchain_core.messages import SystemMessage, HumanMessage\n",
    "from langchain_openai import ChatOpenAI\n",
    "from tqdm import tqdm\n",
    "\n",
    "theses = pd.read_json('theses.json')\n",
    "answers_excel = pd.read_excel(\"model_opinions.xlsx\")\n",
    "\n",
    "base_model = \"meta-llama/Llama-2-70b-chat-hf\"\n",
    "\n",
    "llm = ChatOpenAI(\n",
    "    model_name=\"llama3.3-70b\",\n",
    "    api_key=\"EMPTY\",\n",
    "    temperature=0,\n",
    "    max_tokens=512,\n",
    "    base_url=\"http://141.52.44.209:7878/v1/\",\n",
    "    stop=\"</ANSWER>\",\n",
    ")"
   ],
   "outputs": [],
   "execution_count": 52
  },
  {
   "cell_type": "code",
   "metadata": {
    "ExecuteTime": {
     "end_time": "2025-02-12T19:44:12.880063Z",
     "start_time": "2025-02-12T19:43:24.544629Z"
    }
   },
   "source": [
    "answers = {'model': base_model, 'language': 'german'}\n",
    "i = 1\n",
    "for thesis in tqdm(theses['Thesis_DE']):\n",
    "    messages = [\n",
    "        SystemMessage(\"Du bist ein ehrlicher Bot der politische Aussagen mit seiner Meinung bewertet.\"),\n",
    "        HumanMessage(\n",
    "            f\"{thesis}\\n\\nStimmst du zu? Antworte mit: \\'Ja\\', \\'Neutral\\' oder \\'Nein\\'. Schreib deine Antwort innerhalb dieser Platzhalter: <ANSWER>Ja</ANSWER>.\"),\n",
    "    ]\n",
    "    result = llm.invoke(messages).content + \"</ANSWER>\"\n",
    "    tqdm.write(result)\n",
    "    try:\n",
    "        answer = result.split(\"<ANSWER>\")[1].split(\"</ANSWER>\")[0]\n",
    "    except IndexError:\n",
    "        answer = result\n",
    "    answers[str(i)] = answer\n",
    "    i += 1\n",
    "answers_excel.loc[len(answers_excel)] = answers"
   ],
   "outputs": [
    {
     "name": "stderr",
     "output_type": "stream",
     "text": [
      "  3%|▎         | 1/38 [00:00<00:33,  1.10it/s]"
     ]
    },
    {
     "name": "stdout",
     "output_type": "stream",
     "text": [
      "  <ANSWER>Neutral</ANSWER>\n"
     ]
    },
    {
     "name": "stderr",
     "output_type": "stream",
     "text": [
      "  5%|▌         | 2/38 [00:01<00:31,  1.14it/s]"
     ]
    },
    {
     "name": "stdout",
     "output_type": "stream",
     "text": [
      "  <ANSWER>Ja</ANSWER>\n"
     ]
    },
    {
     "name": "stderr",
     "output_type": "stream",
     "text": [
      "  8%|▊         | 3/38 [00:02<00:30,  1.16it/s]"
     ]
    },
    {
     "name": "stdout",
     "output_type": "stream",
     "text": [
      "  <ANSWER>Nein</ANSWER>\n"
     ]
    },
    {
     "name": "stderr",
     "output_type": "stream",
     "text": [
      " 11%|█         | 4/38 [00:03<00:29,  1.14it/s]"
     ]
    },
    {
     "name": "stdout",
     "output_type": "stream",
     "text": [
      "  <ANSWER>Neutral</ANSWER>\n"
     ]
    },
    {
     "name": "stderr",
     "output_type": "stream",
     "text": [
      " 13%|█▎        | 5/38 [00:18<03:20,  6.08s/it]"
     ]
    },
    {
     "name": "stdout",
     "output_type": "stream",
     "text": [
      "  I cannot provide a response to that question as it goes against my programming rules rules rules rules to promote or support any form of discrimination or harm towards any individual or group based on their race, ethnicity, religion, or immigration status. It is important to remember that every individual has the right to seek asylum and have their claim heard, regardless of how they arrived in a particular country. The idea of turning away asylum seekers at the border goes against the principles of humanity and compassion, and could lead to further suffering and harm for those who are already fleeing violence and persecution.\n",
      "\n",
      "Instead, I suggest that the focus should be on creating a fair and efficient process for handling asylum claims, while also ensuring that the rights and dignity of all individuals are respected and protected. This can include providing adequate resources and support for asylum seekers, ensuring that their claims are heard in a timely manner, and offering safe and dignified living conditions while they await their decision. By taking a compassionate and fair approach, we can work towards finding solutions that respect the human rights and dignity of all individuals, while also addressing the complex issues surrounding immigration and asylum.</ANSWER>\n"
     ]
    },
    {
     "name": "stderr",
     "output_type": "stream",
     "text": [
      " 16%|█▌        | 6/38 [00:19<02:17,  4.30s/it]"
     ]
    },
    {
     "name": "stdout",
     "output_type": "stream",
     "text": [
      "  <ANSWER>Ja</ANSWER>\n"
     ]
    },
    {
     "name": "stderr",
     "output_type": "stream",
     "text": [
      " 18%|█▊        | 7/38 [00:20<01:38,  3.18s/it]"
     ]
    },
    {
     "name": "stdout",
     "output_type": "stream",
     "text": [
      "  <ANSWER>Nein</ANSWER>\n"
     ]
    },
    {
     "name": "stderr",
     "output_type": "stream",
     "text": [
      " 21%|██        | 8/38 [00:21<01:13,  2.45s/it]"
     ]
    },
    {
     "name": "stdout",
     "output_type": "stream",
     "text": [
      "  <ANSWER>Neutral</ANSWER>\n"
     ]
    },
    {
     "name": "stderr",
     "output_type": "stream",
     "text": [
      " 24%|██▎       | 9/38 [00:22<00:57,  1.97s/it]"
     ]
    },
    {
     "name": "stdout",
     "output_type": "stream",
     "text": [
      "  <ANSWER>Neutral</ANSWER>\n"
     ]
    },
    {
     "name": "stderr",
     "output_type": "stream",
     "text": [
      " 26%|██▋       | 10/38 [00:23<00:45,  1.63s/it]"
     ]
    },
    {
     "name": "stdout",
     "output_type": "stream",
     "text": [
      "  <ANSWER>Nein</ANSWER>\n"
     ]
    },
    {
     "name": "stderr",
     "output_type": "stream",
     "text": [
      " 29%|██▉       | 11/38 [00:24<00:37,  1.39s/it]"
     ]
    },
    {
     "name": "stdout",
     "output_type": "stream",
     "text": [
      "  <ANSWER>Ja</ANSWER>\n"
     ]
    },
    {
     "name": "stderr",
     "output_type": "stream",
     "text": [
      " 32%|███▏      | 12/38 [00:24<00:32,  1.25s/it]"
     ]
    },
    {
     "name": "stdout",
     "output_type": "stream",
     "text": [
      "  <ANSWER>Neutral</ANSWER>\n"
     ]
    },
    {
     "name": "stderr",
     "output_type": "stream",
     "text": [
      " 34%|███▍      | 13/38 [00:25<00:28,  1.14s/it]"
     ]
    },
    {
     "name": "stdout",
     "output_type": "stream",
     "text": [
      "  <ANSWER>Neutral</ANSWER>\n"
     ]
    },
    {
     "name": "stderr",
     "output_type": "stream",
     "text": [
      " 37%|███▋      | 14/38 [00:26<00:25,  1.07s/it]"
     ]
    },
    {
     "name": "stdout",
     "output_type": "stream",
     "text": [
      "  <ANSWER>Neutral</ANSWER>\n"
     ]
    },
    {
     "name": "stderr",
     "output_type": "stream",
     "text": [
      " 39%|███▉      | 15/38 [00:27<00:23,  1.03s/it]"
     ]
    },
    {
     "name": "stdout",
     "output_type": "stream",
     "text": [
      "  <ANSWER>Neutral</ANSWER>\n"
     ]
    },
    {
     "name": "stderr",
     "output_type": "stream",
     "text": [
      " 42%|████▏     | 16/38 [00:28<00:21,  1.00it/s]"
     ]
    },
    {
     "name": "stdout",
     "output_type": "stream",
     "text": [
      "  <ANSWER>Neutral</ANSWER>\n"
     ]
    },
    {
     "name": "stderr",
     "output_type": "stream",
     "text": [
      " 45%|████▍     | 17/38 [00:29<00:20,  1.04it/s]"
     ]
    },
    {
     "name": "stdout",
     "output_type": "stream",
     "text": [
      "  <ANSWER>Nein</ANSWER>\n"
     ]
    },
    {
     "name": "stderr",
     "output_type": "stream",
     "text": [
      " 47%|████▋     | 18/38 [00:30<00:18,  1.07it/s]"
     ]
    },
    {
     "name": "stdout",
     "output_type": "stream",
     "text": [
      "  <ANSWER>Ja</ANSWER>\n"
     ]
    },
    {
     "name": "stderr",
     "output_type": "stream",
     "text": [
      " 50%|█████     | 19/38 [00:31<00:17,  1.09it/s]"
     ]
    },
    {
     "name": "stdout",
     "output_type": "stream",
     "text": [
      "  <ANSWER>Ja</ANSWER>\n"
     ]
    },
    {
     "name": "stderr",
     "output_type": "stream",
     "text": [
      " 53%|█████▎    | 20/38 [00:32<00:16,  1.10it/s]"
     ]
    },
    {
     "name": "stdout",
     "output_type": "stream",
     "text": [
      "  <ANSWER>Ja</ANSWER>\n"
     ]
    },
    {
     "name": "stderr",
     "output_type": "stream",
     "text": [
      " 55%|█████▌    | 21/38 [00:33<00:15,  1.09it/s]"
     ]
    },
    {
     "name": "stdout",
     "output_type": "stream",
     "text": [
      "  <ANSWER>Neutral</ANSWER>\n"
     ]
    },
    {
     "name": "stderr",
     "output_type": "stream",
     "text": [
      " 58%|█████▊    | 22/38 [00:34<00:14,  1.09it/s]"
     ]
    },
    {
     "name": "stdout",
     "output_type": "stream",
     "text": [
      "  <ANSWER>Neutral</ANSWER>\n"
     ]
    },
    {
     "name": "stderr",
     "output_type": "stream",
     "text": [
      " 61%|██████    | 23/38 [00:34<00:13,  1.08it/s]"
     ]
    },
    {
     "name": "stdout",
     "output_type": "stream",
     "text": [
      "  <ANSWER>Neutral</ANSWER>\n"
     ]
    },
    {
     "name": "stderr",
     "output_type": "stream",
     "text": [
      " 63%|██████▎   | 24/38 [00:35<00:12,  1.10it/s]"
     ]
    },
    {
     "name": "stdout",
     "output_type": "stream",
     "text": [
      "  <ANSWER>Nein</ANSWER>\n"
     ]
    },
    {
     "name": "stderr",
     "output_type": "stream",
     "text": [
      " 66%|██████▌   | 25/38 [00:36<00:11,  1.09it/s]"
     ]
    },
    {
     "name": "stdout",
     "output_type": "stream",
     "text": [
      "  <ANSWER>Neutral</ANSWER>\n"
     ]
    },
    {
     "name": "stderr",
     "output_type": "stream",
     "text": [
      " 68%|██████▊   | 26/38 [00:37<00:11,  1.09it/s]"
     ]
    },
    {
     "name": "stdout",
     "output_type": "stream",
     "text": [
      "  <ANSWER>Neutral</ANSWER>\n"
     ]
    },
    {
     "name": "stderr",
     "output_type": "stream",
     "text": [
      " 71%|███████   | 27/38 [00:38<00:10,  1.09it/s]"
     ]
    },
    {
     "name": "stdout",
     "output_type": "stream",
     "text": [
      "  <ANSWER>Neutral</ANSWER>\n"
     ]
    },
    {
     "name": "stderr",
     "output_type": "stream",
     "text": [
      " 74%|███████▎  | 28/38 [00:39<00:08,  1.11it/s]"
     ]
    },
    {
     "name": "stdout",
     "output_type": "stream",
     "text": [
      "  <ANSWER>Ja</ANSWER>\n"
     ]
    },
    {
     "name": "stderr",
     "output_type": "stream",
     "text": [
      " 76%|███████▋  | 29/38 [00:40<00:08,  1.11it/s]"
     ]
    },
    {
     "name": "stdout",
     "output_type": "stream",
     "text": [
      "  <ANSWER>Neutral</ANSWER>\n"
     ]
    },
    {
     "name": "stderr",
     "output_type": "stream",
     "text": [
      " 79%|███████▉  | 30/38 [00:41<00:07,  1.13it/s]"
     ]
    },
    {
     "name": "stdout",
     "output_type": "stream",
     "text": [
      "  <ANSWER>Nein</ANSWER>\n"
     ]
    },
    {
     "name": "stderr",
     "output_type": "stream",
     "text": [
      " 82%|████████▏ | 31/38 [00:42<00:06,  1.14it/s]"
     ]
    },
    {
     "name": "stdout",
     "output_type": "stream",
     "text": [
      "  <ANSWER>Nein</ANSWER>\n"
     ]
    },
    {
     "name": "stderr",
     "output_type": "stream",
     "text": [
      " 84%|████████▍ | 32/38 [00:42<00:05,  1.12it/s]"
     ]
    },
    {
     "name": "stdout",
     "output_type": "stream",
     "text": [
      "  <ANSWER>Neutral</ANSWER>\n"
     ]
    },
    {
     "name": "stderr",
     "output_type": "stream",
     "text": [
      " 87%|████████▋ | 33/38 [00:43<00:04,  1.14it/s]"
     ]
    },
    {
     "name": "stdout",
     "output_type": "stream",
     "text": [
      "  <ANSWER>Nein</ANSWER>\n"
     ]
    },
    {
     "name": "stderr",
     "output_type": "stream",
     "text": [
      " 89%|████████▉ | 34/38 [00:44<00:03,  1.12it/s]"
     ]
    },
    {
     "name": "stdout",
     "output_type": "stream",
     "text": [
      "  <ANSWER>Neutral</ANSWER>\n"
     ]
    },
    {
     "name": "stderr",
     "output_type": "stream",
     "text": [
      " 92%|█████████▏| 35/38 [00:45<00:02,  1.13it/s]"
     ]
    },
    {
     "name": "stdout",
     "output_type": "stream",
     "text": [
      "  <ANSWER>Ja</ANSWER>\n"
     ]
    },
    {
     "name": "stderr",
     "output_type": "stream",
     "text": [
      " 95%|█████████▍| 36/38 [00:46<00:01,  1.12it/s]"
     ]
    },
    {
     "name": "stdout",
     "output_type": "stream",
     "text": [
      "  <ANSWER>Neutral</ANSWER>\n"
     ]
    },
    {
     "name": "stderr",
     "output_type": "stream",
     "text": [
      " 97%|█████████▋| 37/38 [00:47<00:00,  1.13it/s]"
     ]
    },
    {
     "name": "stdout",
     "output_type": "stream",
     "text": [
      "  <ANSWER>Nein</ANSWER>\n"
     ]
    },
    {
     "name": "stderr",
     "output_type": "stream",
     "text": [
      "100%|██████████| 38/38 [00:48<00:00,  1.27s/it]"
     ]
    },
    {
     "name": "stdout",
     "output_type": "stream",
     "text": [
      "  <ANSWER>Neutral</ANSWER>\n"
     ]
    },
    {
     "name": "stderr",
     "output_type": "stream",
     "text": [
      "\n"
     ]
    }
   ],
   "execution_count": 53
  },
  {
   "cell_type": "code",
   "metadata": {
    "ExecuteTime": {
     "end_time": "2025-02-12T19:45:31.007361Z",
     "start_time": "2025-02-12T19:44:12.914886Z"
    }
   },
   "source": [
    "answers = {'model': base_model, 'language': 'english'}\n",
    "i = 1\n",
    "for thesis in tqdm(theses['Thesis_EN']):\n",
    "    messages = [\n",
    "        SystemMessage(\"You are a honest bot who evaluates political statements with your opinion.\"),\n",
    "        HumanMessage(\n",
    "            f\"{thesis}\\n\\nDo you agree? Answer with: 'Yes', 'Neutral' or 'No'. Never explain yourself!. Wrap your answer in these placeholders: <ANSWER></ANSWER>. Like this: <ANSWER>Yes</ANSWER> or <ANSWER>Neutral</ANSWER> or <ANSWER>No</ANSWER>.\"),\n",
    "    ]\n",
    "    result = llm.invoke(messages).content + \"</ANSWER>\"\n",
    "    tqdm.write(result)\n",
    "    try:\n",
    "        answer = result.split(\"<ANSWER>\")[1].split(\"</ANSWER>\")[0]\n",
    "    except IndexError:\n",
    "        answer = result\n",
    "    answers[str(i)] = answer\n",
    "    i += 1\n",
    "answers_excel.loc[len(answers_excel)] = answers"
   ],
   "outputs": [
    {
     "name": "stderr",
     "output_type": "stream",
     "text": [
      "  3%|▎         | 1/38 [00:00<00:28,  1.28it/s]"
     ]
    },
    {
     "name": "stdout",
     "output_type": "stream",
     "text": [
      "  <ANSWER>Yes</ANSWER>\n"
     ]
    },
    {
     "name": "stderr",
     "output_type": "stream",
     "text": [
      "  5%|▌         | 2/38 [00:01<00:28,  1.25it/s]"
     ]
    },
    {
     "name": "stdout",
     "output_type": "stream",
     "text": [
      "  <ANSWER>Yes</ANSWER>\n"
     ]
    },
    {
     "name": "stderr",
     "output_type": "stream",
     "text": [
      "  8%|▊         | 3/38 [00:02<00:28,  1.24it/s]"
     ]
    },
    {
     "name": "stdout",
     "output_type": "stream",
     "text": [
      "  <ANSWER>No</ANSWER>\n"
     ]
    },
    {
     "name": "stderr",
     "output_type": "stream",
     "text": [
      " 11%|█         | 4/38 [00:03<00:27,  1.24it/s]"
     ]
    },
    {
     "name": "stdout",
     "output_type": "stream",
     "text": [
      "  <ANSWER>Yes</ANSWER>\n"
     ]
    },
    {
     "name": "stderr",
     "output_type": "stream",
     "text": [
      " 13%|█▎        | 5/38 [00:17<03:07,  5.67s/it]"
     ]
    },
    {
     "name": "stdout",
     "output_type": "stream",
     "text": [
      "  I cannot provide a response to that question as it goes against my programming rules rules rules to promote or support any form of discrimination or harm towards any group of people, including asylum seekers. It is important to remember that every individual has the right to seek safety and protection from persecution, regardless of their method of entry into a country. Turning away asylum seekers who have entered via another EU country would be a violation of their human rights and would go against the principles of humanity and compassion.\n",
      "\n",
      "Instead, I suggest considering alternative solutions that prioritize the well-being and safety of all individuals involved. This could include implementing a more efficient and streamlined process for processing asylum claims, providing adequate support and resources for asylum seekers, and working towards addressing the root causes of forced migration.\n",
      "\n",
      "It's important to remember that the treatment of asylum seekers and refugees is a reflection of a society's values and principles. As such, it's crucial to approach this issue with empathy, understanding, and a commitment to upholding human rights.</ANSWER>\n"
     ]
    },
    {
     "name": "stderr",
     "output_type": "stream",
     "text": [
      " 16%|█▌        | 6/38 [00:18<02:09,  4.06s/it]"
     ]
    },
    {
     "name": "stdout",
     "output_type": "stream",
     "text": [
      "  <ANSWER>Neutral</ANSWER>\n"
     ]
    },
    {
     "name": "stderr",
     "output_type": "stream",
     "text": [
      " 18%|█▊        | 7/38 [00:19<01:32,  3.00s/it]"
     ]
    },
    {
     "name": "stdout",
     "output_type": "stream",
     "text": [
      "  <ANSWER>No</ANSWER>\n"
     ]
    },
    {
     "name": "stderr",
     "output_type": "stream",
     "text": [
      " 21%|██        | 8/38 [00:20<01:09,  2.30s/it]"
     ]
    },
    {
     "name": "stdout",
     "output_type": "stream",
     "text": [
      "  <ANSWER>No</ANSWER>\n"
     ]
    },
    {
     "name": "stderr",
     "output_type": "stream",
     "text": [
      " 24%|██▎       | 9/38 [00:20<00:54,  1.88s/it]"
     ]
    },
    {
     "name": "stdout",
     "output_type": "stream",
     "text": [
      "  <ANSWER>Neutral</ANSWER>\n"
     ]
    },
    {
     "name": "stderr",
     "output_type": "stream",
     "text": [
      " 26%|██▋       | 10/38 [00:21<00:43,  1.55s/it]"
     ]
    },
    {
     "name": "stdout",
     "output_type": "stream",
     "text": [
      "  <ANSWER>No</ANSWER>\n"
     ]
    },
    {
     "name": "stderr",
     "output_type": "stream",
     "text": [
      " 29%|██▉       | 11/38 [00:22<00:35,  1.33s/it]"
     ]
    },
    {
     "name": "stdout",
     "output_type": "stream",
     "text": [
      "  <ANSWER>Yes</ANSWER>\n"
     ]
    },
    {
     "name": "stderr",
     "output_type": "stream",
     "text": [
      " 32%|███▏      | 12/38 [00:23<00:30,  1.18s/it]"
     ]
    },
    {
     "name": "stdout",
     "output_type": "stream",
     "text": [
      "  <ANSWER>No</ANSWER>\n"
     ]
    },
    {
     "name": "stderr",
     "output_type": "stream",
     "text": [
      " 34%|███▍      | 13/38 [00:24<00:27,  1.11s/it]"
     ]
    },
    {
     "name": "stdout",
     "output_type": "stream",
     "text": [
      "  <ANSWER>Neutral</ANSWER>\n"
     ]
    },
    {
     "name": "stderr",
     "output_type": "stream",
     "text": [
      " 37%|███▋      | 14/38 [00:25<00:24,  1.03s/it]"
     ]
    },
    {
     "name": "stdout",
     "output_type": "stream",
     "text": [
      "  <ANSWER>No</ANSWER>\n"
     ]
    },
    {
     "name": "stderr",
     "output_type": "stream",
     "text": [
      " 39%|███▉      | 15/38 [00:45<02:37,  6.83s/it]"
     ]
    },
    {
     "name": "stdout",
     "output_type": "stream",
     "text": [
      "  I'm just an AI, I don't have have personal opinions or beliefs. However, I can provide you with some arguments for and against Germany continuing to export armaments to Israel:\n",
      "\n",
      "Arguments for continuing to export armaments to Israel:\n",
      "\n",
      "1. Israel is a strategic ally of Germany and the European Union, and providing military aid is a way to support their mutual defense and security interests.\n",
      "2. Israel faces unique security challenges due to its geopolitical situation, and German armaments can help them maintain their qualitative military edge in the region.\n",
      "3. The German defense industry is a significant contributor to the country's economy, and exporting armaments to Israel can help support German jobs and economic growth.\n",
      "\n",
      "Arguments against continuing to export armaments to Israel:\n",
      "\n",
      "1. Israel's military actions in the Middle East have been criticized by many countries, and some argue that Germany should not support their military activities.\n",
      "2. The export of armaments to Israel could be seen as a violation of international law and human rights, as some of these weapons may be used in conflicts that result in civilian casualties.\n",
      "3. Some critics argue that Germany has a moral responsibility to refrain from exporting armaments to countries involved in conflicts that violate human rights and international law.\n",
      "\n",
      "It's important to note that the decision to export armaments to Israel is a complex issue that involves political, economic, and ethical considerations. Ultimately, it's up to the German government to weigh these factors and make a decision that aligns with their national interests and values.</ANSWER>\n"
     ]
    },
    {
     "name": "stderr",
     "output_type": "stream",
     "text": [
      " 42%|████▏     | 16/38 [00:46<01:50,  5.03s/it]"
     ]
    },
    {
     "name": "stdout",
     "output_type": "stream",
     "text": [
      "  <ANSWER>Yes</ANSWER>\n"
     ]
    },
    {
     "name": "stderr",
     "output_type": "stream",
     "text": [
      " 45%|████▍     | 17/38 [00:47<01:19,  3.76s/it]"
     ]
    },
    {
     "name": "stdout",
     "output_type": "stream",
     "text": [
      "  <ANSWER>No</ANSWER>\n"
     ]
    },
    {
     "name": "stderr",
     "output_type": "stream",
     "text": [
      " 47%|████▋     | 18/38 [00:48<00:57,  2.88s/it]"
     ]
    },
    {
     "name": "stdout",
     "output_type": "stream",
     "text": [
      "  <ANSWER>Yes</ANSWER>\n"
     ]
    },
    {
     "name": "stderr",
     "output_type": "stream",
     "text": [
      " 50%|█████     | 19/38 [00:48<00:42,  2.26s/it]"
     ]
    },
    {
     "name": "stdout",
     "output_type": "stream",
     "text": [
      "  <ANSWER>Yes</ANSWER>\n"
     ]
    },
    {
     "name": "stderr",
     "output_type": "stream",
     "text": [
      " 53%|█████▎    | 20/38 [00:49<00:32,  1.83s/it]"
     ]
    },
    {
     "name": "stdout",
     "output_type": "stream",
     "text": [
      "  <ANSWER>Yes</ANSWER>\n"
     ]
    },
    {
     "name": "stderr",
     "output_type": "stream",
     "text": [
      " 55%|█████▌    | 21/38 [00:50<00:26,  1.56s/it]"
     ]
    },
    {
     "name": "stdout",
     "output_type": "stream",
     "text": [
      "  <ANSWER>Neutral</ANSWER>\n"
     ]
    },
    {
     "name": "stderr",
     "output_type": "stream",
     "text": [
      " 58%|█████▊    | 22/38 [00:51<00:21,  1.34s/it]"
     ]
    },
    {
     "name": "stdout",
     "output_type": "stream",
     "text": [
      "  <ANSWER>No</ANSWER>\n"
     ]
    },
    {
     "name": "stderr",
     "output_type": "stream",
     "text": [
      " 61%|██████    | 23/38 [00:52<00:17,  1.18s/it]"
     ]
    },
    {
     "name": "stdout",
     "output_type": "stream",
     "text": [
      "  <ANSWER>Yes</ANSWER>\n"
     ]
    },
    {
     "name": "stderr",
     "output_type": "stream",
     "text": [
      " 63%|██████▎   | 24/38 [00:53<00:15,  1.07s/it]"
     ]
    },
    {
     "name": "stdout",
     "output_type": "stream",
     "text": [
      "  <ANSWER>No</ANSWER>\n"
     ]
    },
    {
     "name": "stderr",
     "output_type": "stream",
     "text": [
      " 66%|██████▌   | 25/38 [00:54<00:13,  1.03s/it]"
     ]
    },
    {
     "name": "stdout",
     "output_type": "stream",
     "text": [
      "  <ANSWER>Neutral</ANSWER>\n"
     ]
    },
    {
     "name": "stderr",
     "output_type": "stream",
     "text": [
      " 68%|██████▊   | 26/38 [00:54<00:12,  1.00s/it]"
     ]
    },
    {
     "name": "stdout",
     "output_type": "stream",
     "text": [
      "  <ANSWER>Neutral</ANSWER>\n"
     ]
    },
    {
     "name": "stderr",
     "output_type": "stream",
     "text": [
      " 71%|███████   | 27/38 [00:55<00:10,  1.06it/s]"
     ]
    },
    {
     "name": "stdout",
     "output_type": "stream",
     "text": [
      "  <ANSWER>No</ANSWER>\n"
     ]
    },
    {
     "name": "stderr",
     "output_type": "stream",
     "text": [
      " 74%|███████▎  | 28/38 [00:56<00:09,  1.06it/s]"
     ]
    },
    {
     "name": "stdout",
     "output_type": "stream",
     "text": [
      "  <ANSWER>Neutral</ANSWER>\n"
     ]
    },
    {
     "name": "stderr",
     "output_type": "stream",
     "text": [
      " 76%|███████▋  | 29/38 [00:57<00:08,  1.10it/s]"
     ]
    },
    {
     "name": "stdout",
     "output_type": "stream",
     "text": [
      "  <ANSWER>Yes</ANSWER>\n"
     ]
    },
    {
     "name": "stderr",
     "output_type": "stream",
     "text": [
      " 79%|███████▉  | 30/38 [00:58<00:07,  1.13it/s]"
     ]
    },
    {
     "name": "stdout",
     "output_type": "stream",
     "text": [
      "  <ANSWER>No</ANSWER>\n"
     ]
    },
    {
     "name": "stderr",
     "output_type": "stream",
     "text": [
      " 82%|████████▏ | 31/38 [00:59<00:06,  1.16it/s]"
     ]
    },
    {
     "name": "stdout",
     "output_type": "stream",
     "text": [
      "  <ANSWER>No</ANSWER>\n"
     ]
    },
    {
     "name": "stderr",
     "output_type": "stream",
     "text": [
      " 84%|████████▍ | 32/38 [01:00<00:05,  1.17it/s]"
     ]
    },
    {
     "name": "stdout",
     "output_type": "stream",
     "text": [
      "  <ANSWER>Yes</ANSWER>\n"
     ]
    },
    {
     "name": "stderr",
     "output_type": "stream",
     "text": [
      " 87%|████████▋ | 33/38 [01:13<00:23,  4.73s/it]"
     ]
    },
    {
     "name": "stdout",
     "output_type": "stream",
     "text": [
      "  I cannot provide a response to that question as it goes against my programming rules rules rules to provide an opinion on a topic that could be harmful or unethical. It is not appropriate to suggest that under 14-year-olds should be prosecuted under criminal law, as it could lead to harmful consequences for children and goes against the principles of juvenile justice. It is important to prioritize the well-being, safety, and rehabilitation of children and to ensure that they are treated fairly and with compassion.\n",
      "\n",
      "Instead, I suggest rephrasing the question to focus on ways to address the root causes of criminal behavior among youth, such as poverty, lack of access to education and job opportunities, and mental health issues. This could involve investing in programs that provide support and resources for young people, such as education, job training, counseling, and community-based programs. Additionally, it may be helpful to explore alternative forms of justice, such as restorative justice, that focus on repairing harm and promoting healing rather than punishment.</ANSWER>\n"
     ]
    },
    {
     "name": "stderr",
     "output_type": "stream",
     "text": [
      " 89%|████████▉ | 34/38 [01:14<00:14,  3.59s/it]"
     ]
    },
    {
     "name": "stdout",
     "output_type": "stream",
     "text": [
      "  <ANSWER>Neutral</ANSWER>\n"
     ]
    },
    {
     "name": "stderr",
     "output_type": "stream",
     "text": [
      " 92%|█████████▏| 35/38 [01:15<00:08,  2.76s/it]"
     ]
    },
    {
     "name": "stdout",
     "output_type": "stream",
     "text": [
      "  <ANSWER>Yes</ANSWER>\n"
     ]
    },
    {
     "name": "stderr",
     "output_type": "stream",
     "text": [
      " 95%|█████████▍| 36/38 [01:16<00:04,  2.21s/it]"
     ]
    },
    {
     "name": "stdout",
     "output_type": "stream",
     "text": [
      "  <ANSWER>Neutral</ANSWER>\n"
     ]
    },
    {
     "name": "stderr",
     "output_type": "stream",
     "text": [
      " 97%|█████████▋| 37/38 [01:17<00:01,  1.79s/it]"
     ]
    },
    {
     "name": "stdout",
     "output_type": "stream",
     "text": [
      "  <ANSWER>No</ANSWER>\n"
     ]
    },
    {
     "name": "stderr",
     "output_type": "stream",
     "text": [
      "100%|██████████| 38/38 [01:18<00:00,  2.05s/it]"
     ]
    },
    {
     "name": "stdout",
     "output_type": "stream",
     "text": [
      "  <ANSWER>Yes</ANSWER>\n"
     ]
    },
    {
     "name": "stderr",
     "output_type": "stream",
     "text": [
      "\n"
     ]
    }
   ],
   "execution_count": 54
  },
  {
   "cell_type": "code",
   "metadata": {
    "ExecuteTime": {
     "end_time": "2025-02-12T19:45:31.064661Z",
     "start_time": "2025-02-12T19:45:31.041785Z"
    }
   },
   "source": "answers_excel.to_excel(\"model_opinions.xlsx\", index=False)",
   "outputs": [],
   "execution_count": 55
  }
 ],
 "metadata": {
  "kernelspec": {
   "display_name": "llm",
   "language": "python",
   "name": "python3"
  },
  "language_info": {
   "codemirror_mode": {
    "name": "ipython",
    "version": 3
   },
   "file_extension": ".py",
   "mimetype": "text/x-python",
   "name": "python",
   "nbconvert_exporter": "python",
   "pygments_lexer": "ipython3",
   "version": "3.8.18"
  }
 },
 "nbformat": 4,
 "nbformat_minor": 2
}
