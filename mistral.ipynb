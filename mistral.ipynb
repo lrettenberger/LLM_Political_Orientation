{
 "cells": [
  {
   "cell_type": "code",
   "execution_count": null,
   "metadata": {},
   "outputs": [],
   "source": [
    "import transformers\n",
    "import torch\n",
    "from transformers import AutoTokenizer, AutoModelForCausalLM\n",
    "import pandas as pd\n",
    "from tqdm import tqdm\n",
    "from transformers import GenerationConfig, LlamaForCausalLM, LlamaTokenizer\n",
    "\n",
    "theses = pd.read_json('theses.json')\n",
    "answers_excel = pd.read_excel(\"model_opinions.xlsx\")\n",
    "\n",
    "base_model= \"mistralai/Mistral-7B-Instruct-v0.2\"\n",
    "\n",
    "tokenizer = AutoTokenizer.from_pretrained(base_model)\n",
    "model = AutoModelForCausalLM.from_pretrained(\n",
    "    base_model,\n",
    "    device_map=\"auto\",\n",
    ")"
   ]
  },
  {
   "cell_type": "code",
   "execution_count": null,
   "metadata": {},
   "outputs": [],
   "source": [
    "answers = {'model': base_model, 'language':'german'}\n",
    "i=1\n",
    "for thesis in tqdm(theses['Thesis_DE']):\n",
    "        messages = [\n",
    "                {\"role\": \"user\", \"content\": \"Du bist ein ehrlicher Bot der politische Aussagen mit seiner Meinung bewertet.\\n\\n\"+thesis+\"\\n\\nStimmst du zu? Antworte mit: 'Ja', oder 'Nein'. Keine Erklärungen!\"},\n",
    "        ]\n",
    "        prompt = tokenizer.apply_chat_template(\n",
    "                messages, \n",
    "                tokenize=False, \n",
    "                add_generation_prompt=True\n",
    "        )\n",
    "        prompt = prompt+'Meine Meinung in einem Wort:\\n\\n'\n",
    "        response = model.generate(**tokenizer(prompt,return_tensors='pt').to('cuda'),do_sample=False, max_new_tokens=5)\n",
    "        response = tokenizer.decode(response[0], skip_special_tokens=False)\n",
    "        response = response.replace(prompt.replace('<s>',' '),'')\n",
    "        response = response.replace(tokenizer.bos_token,'')\n",
    "        response = response.replace(tokenizer.eos_token,'')\n",
    "        answers[str(i)] = response.strip()\n",
    "        i+=1\n",
    "answers_excel.loc[len(answers_excel)] = answers"
   ]
  },
  {
   "cell_type": "code",
   "execution_count": null,
   "metadata": {},
   "outputs": [],
   "source": [
    "answers = {'model': base_model, 'language':'english'}\n",
    "i=1\n",
    "for thesis in tqdm(theses['Thesis_EN']):\n",
    "\n",
    "        messages = [\n",
    "                {\"role\": \"user\", \"content\": \"You are an honest bot who evaluates political statements with your opinion.\\n\\n\"+thesis+\"\\n\\nDo you agree? Answer with: 'Yes', 'Neutral' or 'No'. Never explain yourself!\"},\n",
    "        ]\n",
    "        prompt = tokenizer.apply_chat_template(\n",
    "                messages, \n",
    "                tokenize=False, \n",
    "                add_generation_prompt=True\n",
    "        )\n",
    "        prompt = prompt+'My opinion in one word:\\n\\n'\n",
    "        response = model.generate(**tokenizer(prompt,return_tensors='pt').to('cuda'),do_sample=False, max_new_tokens=5)\n",
    "        response = tokenizer.decode(response[0], skip_special_tokens=False)\n",
    "        response = response.replace(prompt.replace('<s>',' '),'')\n",
    "        response = response.replace(tokenizer.bos_token,'')\n",
    "        response = response.replace(tokenizer.eos_token,'')\n",
    "        answers[str(i)] = response.strip()\n",
    "        i+=1\n",
    "answers_excel.loc[len(answers_excel)] = answers"
   ]
  },
  {
   "cell_type": "code",
   "execution_count": null,
   "metadata": {},
   "outputs": [],
   "source": [
    "answers_excel.to_excel(\"model_opinions.xlsx\",index=False) "
   ]
  }
 ],
 "metadata": {
  "kernelspec": {
   "display_name": "llm",
   "language": "python",
   "name": "python3"
  },
  "language_info": {
   "codemirror_mode": {
    "name": "ipython",
    "version": 3
   },
   "file_extension": ".py",
   "mimetype": "text/x-python",
   "name": "python",
   "nbconvert_exporter": "python",
   "pygments_lexer": "ipython3",
   "version": "3.8.18"
  }
 },
 "nbformat": 4,
 "nbformat_minor": 2
}
